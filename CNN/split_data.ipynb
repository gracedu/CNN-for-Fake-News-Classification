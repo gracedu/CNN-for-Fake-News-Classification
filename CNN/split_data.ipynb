{
 "cells": [
  {
   "cell_type": "code",
   "execution_count": 69,
   "metadata": {},
   "outputs": [],
   "source": [
    "import pandas as pd\n",
    "true = pd.read_csv(\"trueData.csv\")\n",
    "fake = pd.read_csv(\"fakeData.csv\")\n",
    "del true[\"subject\"]\n",
    "del true[\"date\"]\n",
    "del fake[\"subject\"]\n",
    "del fake[\"date\"]\n",
    "\n",
    "true[\"titletext\"] = true[\"title\"] + true[\"text\"]\n",
    "\n",
    "fake[\"titletext\"] = fake[\"title\"] + fake[\"text\"]"
   ]
  },
  {
   "cell_type": "code",
   "execution_count": 70,
   "metadata": {},
   "outputs": [
    {
     "name": "stdout",
     "output_type": "stream",
     "text": [
      "(21417, 3)\n"
     ]
    }
   ],
   "source": [
    "print(true.shape)"
   ]
  },
  {
   "cell_type": "code",
   "execution_count": 71,
   "metadata": {
    "scrolled": true
   },
   "outputs": [
    {
     "name": "stdout",
     "output_type": "stream",
     "text": [
      "19275.3\n"
     ]
    }
   ],
   "source": [
    "print(21417*0.9)"
   ]
  },
  {
   "cell_type": "code",
   "execution_count": 72,
   "metadata": {
    "scrolled": true
   },
   "outputs": [
    {
     "name": "stdout",
     "output_type": "stream",
     "text": [
      "0        As U.S. budget fight looms, Republicans flip t...\n",
      "1        U.S. military to accept transgender recruits o...\n",
      "2        Senior U.S. Republican senator: 'Let Mr. Muell...\n",
      "3        FBI Russia probe helped by Australian diplomat...\n",
      "4        Trump wants Postal Service to charge 'much mor...\n",
      "                               ...                        \n",
      "21412    'Fully committed' NATO backs new U.S. approach...\n",
      "21413    LexisNexis withdrew two products from Chinese ...\n",
      "21414    Minsk cultural hub becomes haven from authorit...\n",
      "21415    Vatican upbeat on possibility of Pope Francis ...\n",
      "21416    Indonesia to buy $1.14 billion worth of Russia...\n",
      "Name: titletext, Length: 21417, dtype: object\n"
     ]
    }
   ],
   "source": [
    "print(true[\"titletext\"])"
   ]
  },
  {
   "cell_type": "code",
   "execution_count": 73,
   "metadata": {},
   "outputs": [
    {
     "name": "stdout",
     "output_type": "stream",
     "text": [
      "(19275, 3)\n"
     ]
    }
   ],
   "source": [
    "#row 0 to row 19274\n",
    "true_90 = true.iloc[0:19275]\n",
    "print(true_90.shape)"
   ]
  },
  {
   "cell_type": "code",
   "execution_count": 74,
   "metadata": {},
   "outputs": [
    {
     "name": "stdout",
     "output_type": "stream",
     "text": [
      "                                                   title  \\\n",
      "0      As U.S. budget fight looms, Republicans flip t...   \n",
      "1      U.S. military to accept transgender recruits o...   \n",
      "2      Senior U.S. Republican senator: 'Let Mr. Muell...   \n",
      "3      FBI Russia probe helped by Australian diplomat...   \n",
      "4      Trump wants Postal Service to charge 'much mor...   \n",
      "...                                                  ...   \n",
      "19270  National Party leads in New Zealand polls; New...   \n",
      "19271  Buddhist mistrust of foreign aid workers hampe...   \n",
      "19272  Bangladesh grants bail to two detained Myanmar...   \n",
      "19273  New Zealand's ruling National ahead in early c...   \n",
      "19274  Refugees reaching Zambia accuse DRC troops of ...   \n",
      "\n",
      "                                                    text  \\\n",
      "0      WASHINGTON (Reuters) - The head of a conservat...   \n",
      "1      WASHINGTON (Reuters) - Transgender people will...   \n",
      "2      WASHINGTON (Reuters) - The special counsel inv...   \n",
      "3      WASHINGTON (Reuters) - Trump campaign adviser ...   \n",
      "4      SEATTLE/WASHINGTON (Reuters) - President Donal...   \n",
      "...                                                  ...   \n",
      "19270  WELLINGTON (Reuters) - Votes cast for New Zeal...   \n",
      "19271  SITTWE, Myanmar (Reuters) - Relief agencies st...   \n",
      "19272  DHAKA (Reuters) - Two journalists from Myanmar...   \n",
      "19273  WELLINGTON (Reuters) - Votes cast for New Zeal...   \n",
      "19274  LUSAKA (Reuters) - Democratic Republic of Cong...   \n",
      "\n",
      "                                               titletext  \n",
      "0      As U.S. budget fight looms, Republicans flip t...  \n",
      "1      U.S. military to accept transgender recruits o...  \n",
      "2      Senior U.S. Republican senator: 'Let Mr. Muell...  \n",
      "3      FBI Russia probe helped by Australian diplomat...  \n",
      "4      Trump wants Postal Service to charge 'much mor...  \n",
      "...                                                  ...  \n",
      "19270  National Party leads in New Zealand polls; New...  \n",
      "19271  Buddhist mistrust of foreign aid workers hampe...  \n",
      "19272  Bangladesh grants bail to two detained Myanmar...  \n",
      "19273  New Zealand's ruling National ahead in early c...  \n",
      "19274  Refugees reaching Zambia accuse DRC troops of ...  \n",
      "\n",
      "[19275 rows x 3 columns]\n"
     ]
    }
   ],
   "source": [
    "print(true_90)"
   ]
  },
  {
   "cell_type": "code",
   "execution_count": 75,
   "metadata": {},
   "outputs": [
    {
     "name": "stdout",
     "output_type": "stream",
     "text": [
      "                                                   title  \\\n",
      "19275  Moody's downgrades UK's rating on Brexit and g...   \n",
      "19276  Damaged New Zealand fuel pipeline to be restar...   \n",
      "19277  China says to ban some petroleum exports to No...   \n",
      "19278  U.S. challenged by rising North Korea tensions...   \n",
      "19279  Tempers fray as search for survivors winds dow...   \n",
      "...                                                  ...   \n",
      "21412  'Fully committed' NATO backs new U.S. approach...   \n",
      "21413  LexisNexis withdrew two products from Chinese ...   \n",
      "21414  Minsk cultural hub becomes haven from authorities   \n",
      "21415  Vatican upbeat on possibility of Pope Francis ...   \n",
      "21416  Indonesia to buy $1.14 billion worth of Russia...   \n",
      "\n",
      "                                                    text  \\\n",
      "19275  LONDON (Reuters) - Ratings agency Moody s down...   \n",
      "19276  SYDNEY (Reuters) - A damaged pipeline that res...   \n",
      "19277  SHANGHAI (Reuters) - China said on Saturday it...   \n",
      "19278  UNITED NATIONS (Reuters) - Russia urged  hot h...   \n",
      "19279  MEXICO CITY (Reuters) - Tempers frayed in Mexi...   \n",
      "...                                                  ...   \n",
      "21412  BRUSSELS (Reuters) - NATO allies on Tuesday we...   \n",
      "21413  LONDON (Reuters) - LexisNexis, a provider of l...   \n",
      "21414  MINSK (Reuters) - In the shadow of disused Sov...   \n",
      "21415  MOSCOW (Reuters) - Vatican Secretary of State ...   \n",
      "21416  JAKARTA (Reuters) - Indonesia will buy 11 Sukh...   \n",
      "\n",
      "                                               titletext  \n",
      "19275  Moody's downgrades UK's rating on Brexit and g...  \n",
      "19276  Damaged New Zealand fuel pipeline to be restar...  \n",
      "19277  China says to ban some petroleum exports to No...  \n",
      "19278  U.S. challenged by rising North Korea tensions...  \n",
      "19279  Tempers fray as search for survivors winds dow...  \n",
      "...                                                  ...  \n",
      "21412  'Fully committed' NATO backs new U.S. approach...  \n",
      "21413  LexisNexis withdrew two products from Chinese ...  \n",
      "21414  Minsk cultural hub becomes haven from authorit...  \n",
      "21415  Vatican upbeat on possibility of Pope Francis ...  \n",
      "21416  Indonesia to buy $1.14 billion worth of Russia...  \n",
      "\n",
      "[2142 rows x 3 columns]\n"
     ]
    }
   ],
   "source": [
    "true_10 = true.iloc[19275:]\n",
    "print(true_10)"
   ]
  },
  {
   "cell_type": "code",
   "execution_count": 76,
   "metadata": {},
   "outputs": [
    {
     "name": "stdout",
     "output_type": "stream",
     "text": [
      "(23481, 3)\n"
     ]
    }
   ],
   "source": [
    "print(fake.shape)"
   ]
  },
  {
   "cell_type": "code",
   "execution_count": 77,
   "metadata": {},
   "outputs": [
    {
     "name": "stdout",
     "output_type": "stream",
     "text": [
      "0         Donald Trump Sends Out Embarrassing New Year’...\n",
      "1         Drunk Bragging Trump Staffer Started Russian ...\n",
      "2         Sheriff David Clarke Becomes An Internet Joke...\n",
      "3         Trump Is So Obsessed He Even Has Obama’s Name...\n",
      "4         Pope Francis Just Called Out Donald Trump Dur...\n",
      "                               ...                        \n",
      "23476    McPain: John McCain Furious That Iran Treated ...\n",
      "23477    JUSTICE? Yahoo Settles E-mail Privacy Class-ac...\n",
      "23478    Sunnistan: US and Allied ‘Safe Zone’ Plan to T...\n",
      "23479    How to Blow $700 Million: Al Jazeera America F...\n",
      "23480    10 U.S. Navy Sailors Held by Iranian Military ...\n",
      "Name: titletext, Length: 23481, dtype: object\n"
     ]
    }
   ],
   "source": [
    "print(fake[\"titletext\"])"
   ]
  },
  {
   "cell_type": "code",
   "execution_count": 78,
   "metadata": {},
   "outputs": [
    {
     "name": "stdout",
     "output_type": "stream",
     "text": [
      "21132.9\n"
     ]
    }
   ],
   "source": [
    "print(23481*0.9)"
   ]
  },
  {
   "cell_type": "code",
   "execution_count": 79,
   "metadata": {},
   "outputs": [
    {
     "name": "stdout",
     "output_type": "stream",
     "text": [
      "(21133, 3)\n"
     ]
    }
   ],
   "source": [
    "fake_90 = fake.iloc[0:21133]\n",
    "print(fake_90.shape)"
   ]
  },
  {
   "cell_type": "code",
   "execution_count": 80,
   "metadata": {},
   "outputs": [
    {
     "name": "stdout",
     "output_type": "stream",
     "text": [
      "                                                   title  \\\n",
      "0       Donald Trump Sends Out Embarrassing New Year’...   \n",
      "1       Drunk Bragging Trump Staffer Started Russian ...   \n",
      "2       Sheriff David Clarke Becomes An Internet Joke...   \n",
      "3       Trump Is So Obsessed He Even Has Obama’s Name...   \n",
      "4       Pope Francis Just Called Out Donald Trump Dur...   \n",
      "...                                                  ...   \n",
      "21128  YOU WON’T BELIEVE Why Students In Communist Wi...   \n",
      "21129  MAN MAKES VIRAL VIDEO: Demonstrates How Obama ...   \n",
      "21130  RUBIO DOUBLES DOWN ON Putting Illegal Aliens B...   \n",
      "21131  BREAKING: OBAMA JUST RELEASED GITMO Prisoner W...   \n",
      "21132  MUSLIM BROTHERHOOD AFFILIATE INVITED To Obama’...   \n",
      "\n",
      "                                                    text  \\\n",
      "0      Donald Trump just couldn t wish all Americans ...   \n",
      "1      House Intelligence Committee Chairman Devin Nu...   \n",
      "2      On Friday, it was revealed that former Milwauk...   \n",
      "3      On Christmas day, Donald Trump announced that ...   \n",
      "4      Pope Francis used his annual Christmas Day mes...   \n",
      "...                                                  ...   \n",
      "21128  This is out of control! Is there anything more...   \n",
      "21129  (function(d, s, id) {  var js, fjs = d.getElem...   \n",
      "21130  If Rubio isn t smart enough to see that Trump ...   \n",
      "21131  // <![CDATA[ (function(d, s, id) { var js, fjs...   \n",
      "21132  So in an effort to reach out to Muslims living...   \n",
      "\n",
      "                                               titletext  \n",
      "0       Donald Trump Sends Out Embarrassing New Year’...  \n",
      "1       Drunk Bragging Trump Staffer Started Russian ...  \n",
      "2       Sheriff David Clarke Becomes An Internet Joke...  \n",
      "3       Trump Is So Obsessed He Even Has Obama’s Name...  \n",
      "4       Pope Francis Just Called Out Donald Trump Dur...  \n",
      "...                                                  ...  \n",
      "21128  YOU WON’T BELIEVE Why Students In Communist Wi...  \n",
      "21129  MAN MAKES VIRAL VIDEO: Demonstrates How Obama ...  \n",
      "21130  RUBIO DOUBLES DOWN ON Putting Illegal Aliens B...  \n",
      "21131  BREAKING: OBAMA JUST RELEASED GITMO Prisoner W...  \n",
      "21132  MUSLIM BROTHERHOOD AFFILIATE INVITED To Obama’...  \n",
      "\n",
      "[21133 rows x 3 columns]\n"
     ]
    }
   ],
   "source": [
    "print(fake_90)"
   ]
  },
  {
   "cell_type": "code",
   "execution_count": 81,
   "metadata": {},
   "outputs": [
    {
     "name": "stdout",
     "output_type": "stream",
     "text": [
      "(2348, 3)\n"
     ]
    }
   ],
   "source": [
    "fake_10 = fake.iloc[21133:]\n",
    "print(fake_10.shape)"
   ]
  },
  {
   "cell_type": "code",
   "execution_count": 82,
   "metadata": {
    "scrolled": true
   },
   "outputs": [],
   "source": [
    "train_title_text = pd.DataFrame() \n",
    "train_title_text[\"content\"] = true_90[\"titletext\"] + fake_90[\"titletext\"]"
   ]
  },
  {
   "cell_type": "code",
   "execution_count": null,
   "metadata": {
    "scrolled": true
   },
   "outputs": [],
   "source": []
  },
  {
   "cell_type": "code",
   "execution_count": 83,
   "metadata": {},
   "outputs": [],
   "source": [
    "import numpy as np\n",
    "zeros = np.zeros([19275, 1], dtype=int)\n",
    "ones = np.ones([21133, 1], dtype=int)\n",
    "y_train = np.concatenate((ones, zeros))\n",
    "y_train = pd.DataFrame(y_train)\n",
    "y_train.columns = ['label']\n",
    "y_train.to_csv('y_train.csv')"
   ]
  },
  {
   "cell_type": "code",
   "execution_count": 84,
   "metadata": {},
   "outputs": [
    {
     "name": "stdout",
     "output_type": "stream",
     "text": [
      "(40408, 1)\n"
     ]
    }
   ],
   "source": [
    "print(y_train.shape)"
   ]
  },
  {
   "cell_type": "code",
   "execution_count": 85,
   "metadata": {},
   "outputs": [],
   "source": [
    "true_90data =true_90[\"titletext\"]\n",
    "fake_90data = fake_90[\"titletext\"]\n",
    "data_temp = np.concatenate((true_90data, fake_90data))\n",
    "x_train = pd.DataFrame(data_temp)\n",
    "x_train.columns = ['content']\n",
    "x_train.to_csv('x_train.csv')\n",
    "#x_train = np.concatenate(true_90[\"titletext\"], fake_90[\"titletext\"])"
   ]
  },
  {
   "cell_type": "code",
   "execution_count": 86,
   "metadata": {},
   "outputs": [
    {
     "name": "stdout",
     "output_type": "stream",
     "text": [
      "(40408, 1)\n"
     ]
    }
   ],
   "source": [
    "print(x_train.shape)"
   ]
  },
  {
   "cell_type": "code",
   "execution_count": 87,
   "metadata": {},
   "outputs": [],
   "source": [
    "zeros1 = np.zeros([2348, 1], dtype=int)\n",
    "ones1 = np.ones([2142, 1], dtype=int)\n",
    "y_val = np.concatenate((ones1, zeros1))\n",
    "y_val = pd.DataFrame(y_val)\n",
    "y_val.columns = ['label']\n",
    "y_val.to_csv('y_val.csv')"
   ]
  },
  {
   "cell_type": "code",
   "execution_count": 88,
   "metadata": {},
   "outputs": [
    {
     "name": "stdout",
     "output_type": "stream",
     "text": [
      "(4490, 1)\n"
     ]
    }
   ],
   "source": [
    "print(y_val.shape)"
   ]
  },
  {
   "cell_type": "code",
   "execution_count": 89,
   "metadata": {},
   "outputs": [],
   "source": [
    "true_10data =true_10[\"titletext\"]\n",
    "fake_10data = fake_10[\"titletext\"]\n",
    "data_temp1 = np.concatenate((true_10data, fake_10data))\n",
    "x_val = pd.DataFrame(data_temp1)\n",
    "x_val.columns = ['content']\n",
    "x_val.to_csv('x_val.csv')"
   ]
  },
  {
   "cell_type": "code",
   "execution_count": 90,
   "metadata": {},
   "outputs": [
    {
     "name": "stdout",
     "output_type": "stream",
     "text": [
      "(4490, 1)\n"
     ]
    }
   ],
   "source": [
    "print(x_val.shape)"
   ]
  },
  {
   "cell_type": "code",
   "execution_count": null,
   "metadata": {},
   "outputs": [],
   "source": []
  }
 ],
 "metadata": {
  "kernelspec": {
   "display_name": "Python 3",
   "language": "python",
   "name": "python3"
  },
  "language_info": {
   "codemirror_mode": {
    "name": "ipython",
    "version": 3
   },
   "file_extension": ".py",
   "mimetype": "text/x-python",
   "name": "python",
   "nbconvert_exporter": "python",
   "pygments_lexer": "ipython3",
   "version": "3.7.6"
  }
 },
 "nbformat": 4,
 "nbformat_minor": 4
}
